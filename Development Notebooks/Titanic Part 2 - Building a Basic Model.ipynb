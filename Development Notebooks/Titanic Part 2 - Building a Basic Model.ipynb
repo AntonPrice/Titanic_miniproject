{
 "cells": [
  {
   "cell_type": "markdown",
   "metadata": {},
   "source": [
    "# Titanic Survival Classification - A Basic Model (Part 2)\n",
    "\n",
    "So now I've imported and played around with the data a bit its time to have a look at the data more closely and get started building a basic model from scratch.\n",
    "\n",
    "As this is my first model what better place to start than a simple logistic regression model to get into the swing of things.\n",
    "\n",
    "So lets get started by importing the basic packages we'll be using and the data/functions we built in Part 1."
   ]
  },
  {
   "cell_type": "code",
   "execution_count": 1,
   "metadata": {},
   "outputs": [
    {
     "name": "stderr",
     "output_type": "stream",
     "text": [
      "F:\\anaconda\\envs\\tensorflow\\lib\\site-packages\\h5py\\__init__.py:36: FutureWarning: Conversion of the second argument of issubdtype from `float` to `np.floating` is deprecated. In future, it will be treated as `np.float64 == np.dtype(float).type`.\n",
      "  from ._conv import register_converters as _register_converters\n",
      "Using TensorFlow backend.\n"
     ]
    }
   ],
   "source": [
    "#First importing some relevant packages\n",
    "import numpy as np\n",
    "import matplotlib.pyplot as plt\n",
    "import pandas as pd\n",
    "import seaborn as sns\n",
    "\n",
    "#Import the functions built in Part 1\n",
    "from Titanic_Import import *\n"
   ]
  },
  {
   "cell_type": "markdown",
   "metadata": {},
   "source": [
    "Now we have our modules its time to import our data and do some basic analysis."
   ]
  },
  {
   "cell_type": "code",
   "execution_count": 2,
   "metadata": {},
   "outputs": [],
   "source": [
    "full_set = pd.read_csv('D:/Datasets/Titanic/train.csv')\n",
    "\n",
    "#import data we cleansed last time\n",
    "X_Train, X_CV, Y_Train, Y_CV = Cleanse_Training_Data(full_set)\n"
   ]
  },
  {
   "cell_type": "markdown",
   "metadata": {},
   "source": [
    "So first thing's first: lets have a look at our feature correlation.  \n",
    "\n",
    "We are expecting our features to be somewhat correlated here due to the nature of OH vectors but lets see.\n",
    "\n",
    "So we're going to do this by means of Principle Component Analysis. "
   ]
  },
  {
   "cell_type": "code",
   "execution_count": 3,
   "metadata": {},
   "outputs": [],
   "source": [
    "def compute_pca(X):\n",
    "    m = X.shape[0]\n",
    "    sigma = (1/m) *(np.matmul(np.transpose(X), X))\n",
    "    sig_rep = np.nan_to_num(sigma)\n",
    "    U, S, T = np.linalg.svd(sig_rep)\n",
    "    return U, S"
   ]
  },
  {
   "cell_type": "code",
   "execution_count": 4,
   "metadata": {},
   "outputs": [
    {
     "data": {
      "text/plain": [
       "<matplotlib.axes._subplots.AxesSubplot at 0xf7da588>"
      ]
     },
     "execution_count": 4,
     "metadata": {},
     "output_type": "execute_result"
    },
    {
     "data": {
      "image/png": "[encoded data removed]",
      "text/plain": [
       "<Figure size 1008x864 with 2 Axes>"
      ]
     },
     "metadata": {},
     "output_type": "display_data"
    }
   ],
   "source": [
    "U, S = compute_pca(X_Train)\n",
    "\n",
    "#Plot our output to have a look\n",
    "colormap = plt.cm.RdBu\n",
    "plt.figure(figsize=(14,12))\n",
    "sns.heatmap(U, linewidths=0.1,vmax=1.0, \n",
    "            square=True, cmap=colormap,linecolor='white')"
   ]
  },
  {
   "cell_type": "markdown",
   "metadata": {},
   "source": [
    "So our OH vectors appear somewhat correlated (as expected) but other than that most of our features are uncorellated assuming I'm reading the chart correctly.  \n",
    "\n",
    "There are a few highly correlated features as well such as 7 and 22, however overall we're not looking too bad.  \n",
    "\n",
    "\n",
    "# Logistic Regression\n",
    "\n",
    "So lets build our first simple model - Logistic Regression.\n",
    "\n",
    "We're doing this from the ground up so lets get to it.\n",
    "\n",
    "This is going to be a cut down build with some functionality added to test, however its only a proof of concept.\n",
    "\n",
    "So first things first lets build all the functions we will need - \n",
    "* Random Initializer function\n",
    "* Logistic Regression Forward Propogation function\n",
    "* Optimization algorithm(s)\n",
    "* Backward Propogation/Training function\n",
    "* Prediction function "
   ]
  },
  {
   "cell_type": "code",
   "execution_count": 5,
   "metadata": {},
   "outputs": [],
   "source": [
    "#Sigmoid Activation Function\n",
    "def sigmoid(z):\n",
    "    s = 1/(1+np.exp(-z))  \n",
    "    return s\n",
    "\n",
    "#Random Initializer\n",
    "def initializer(dim):   \n",
    "    w = np.random.uniform(-1,0,(dim, 1))\n",
    "    b = np.random.uniform()\n",
    "    return w, b\n",
    "\n",
    "#One full pass\n",
    "def Logistic_Reg(X, Y, w, b, regularizer = None , ld = 0.5):\n",
    "    m = X.shape[0]\n",
    "\n",
    "    #Forward Prop\n",
    "    Z = np.nansum(w*X.T, axis = 0 ) + b\n",
    "    A = sigmoid(Z) \n",
    "    \n",
    "    #Logistic Cross-Entropy Loss\n",
    "    if regularizer == \"L2\" :\n",
    "        #L2 Regularization\n",
    "        reg = (ld / (2*m)) * np.asscalar(np.matmul(w.T, w))\n",
    "        cost = -(1/m)*np.nansum(Y*np.log(A) +(1 - Y)*np.log(1 - A)) + reg\n",
    "    if regularizer == \"L1\" :\n",
    "        #L1 Regularization\n",
    "        reg = (ld / (2*m)) * np.sum(np.absolute(w))\n",
    "        cost = -(1/m)*np.nansum(Y*np.log(A) +(1 - Y)*np.log(1 - A)) + reg\n",
    "    else :\n",
    "        #defaults to no regularization\n",
    "        cost = -(1/m)*np.nansum(Y*np.log(A) +(1 - Y)*np.log(1 - A))\n",
    "    \n",
    "    \n",
    "    \n",
    "    #Gradients\n",
    "    dZ = np.reshape(A - Y, (m, 1))\n",
    "    dw = np.matmul(X.T, dZ) / m\n",
    "    db = (1/m)*np.sum(dZ)\n",
    "\n",
    "    #cache and output\n",
    "    cache = {\"dw\": dw,\n",
    "             \"db\": db}\n",
    "    return cost, cache\n",
    "\n",
    "#ADAM optimization algorithm for quickly training our logistic regression parameters\n",
    "def adam_optmize(w, b, dw, db, v, s, t = 2, learning_rate = 0.1, Beta1 = 0.9, Beta2 = 0.999,  epsilon = 1e-8) :\n",
    "    #Compute moving averages\n",
    "    v[\"dw\"] = v[\"dw\"]*Beta1 + (1-Beta1)*dw\n",
    "    v[\"db\"] = v[\"db\"]*Beta1 + (1-Beta1)*db\n",
    "    \n",
    "    #Compute bias-corrected first moment\n",
    "    v_cor_dw = v[\"dw\"] / (1 - (Beta1**t))\n",
    "    v_cor_db = v[\"db\"] / (1 - (Beta1**t))\n",
    "    \n",
    "    #Moving averages for squared grads\n",
    "    s[\"dw\"] = s[\"dw\"]*Beta2 + (1-Beta2)*(np.square(dw))\n",
    "    s[\"db\"] = s[\"db\"]*Beta2 + (1-Beta2)*(db**2)\n",
    "    \n",
    "    #Compute bias-corrected second moment \n",
    "    s_cor_dw = s[\"dw\"] / (1 - (Beta2**t))\n",
    "    s_cor_db = s[\"db\"] / (1 - (Beta2**t))\n",
    "    \n",
    "    #Update parameters\n",
    "    w = w - (learning_rate * (v_cor_dw / (np.sqrt(s_cor_dw) + epsilon)))\n",
    "    b = b - (learning_rate * (v_cor_db / (np.sqrt(s_cor_db) + epsilon)))\n",
    "    \n",
    "    return w, b, v, s\n",
    "\n",
    "\n",
    "#Optimization function to compute our weights matrix\n",
    "def Train_model(w, b, X, Y, num_iterations, learning_rate = 0.5, regularizer = None, optimizer = None, decay=None, conv = None):\n",
    "    costs = []\n",
    "    k = 1.5\n",
    "    \n",
    "    \n",
    "    #If using ADAM then initialize adam parameters\n",
    "    if optimizer == \"adam\" :\n",
    "        v = {}\n",
    "        s = {}\n",
    "        v[\"dw\"] = np.zeros((w.shape))\n",
    "        v[\"db\"] = 0\n",
    "        s[\"dw\"] = np.zeros((w.shape))\n",
    "        s[\"db\"] = 0\n",
    "        \n",
    "    \n",
    "    #iterate over n passes\n",
    "    for i in range(num_iterations):\n",
    "        #Propogate our network per iteration\n",
    "        cost, grads = Logistic_Reg(X, Y, w, b, regularizer = regularizer)\n",
    "        # Retrieve derivatives from grads\n",
    "        dw = grads[\"dw\"]\n",
    "        db = grads[\"db\"]\n",
    "        \n",
    "        if decay == \"power\" :\n",
    "            learning_rate = 0.95** i\n",
    "        elif decay == \"inv_sqrt\"  and i > 1:\n",
    "            learning_rate = k / np.sqrt(i)\n",
    "        elif decay == \"pow_inv\" and i > 1 :\n",
    "            learning_rate = k ** (1/i)\n",
    "        \n",
    "        if optimizer == \"adam\" :\n",
    "            w, b, v, s = adam_optmize(w, b, dw, db, v, s, learning_rate = learning_rate)\n",
    "        else :\n",
    "            #Gradient Descent as default\n",
    "            w = w - learning_rate*dw\n",
    "            b = b - learning_rate*db\n",
    "        \n",
    "        # Record the costs\n",
    "        if i % 100 == 0:\n",
    "            costs.append(cost)\n",
    "        \n",
    "        j = len(costs)\n",
    "        \n",
    "        if conv == True and  j >= 3 and  costs[j - 1] < cost and costs[j - 1] < cost :\n",
    "            print(\"Converged after iteration %d\", i)\n",
    "            break\n",
    "    \n",
    "    params = {\"w\": w,\n",
    "              \"b\": b}\n",
    "    \n",
    "    grads = {\"dw\": dw,\n",
    "             \"db\": db}\n",
    "    \n",
    "    return params, grads, costs\n",
    "\n",
    "#Prediction function for generating outputs - effectively forward prop\n",
    "#Would use softmax for multi-class however this is binary so can use simple logic\n",
    "def predict(w, b, X):\n",
    "    Y_pred = np.zeros((X.shape[0]))\n",
    "    \n",
    "    Z = np.nansum(w*X.T, axis = 0 ) + b\n",
    "    A = sigmoid(Z) \n",
    "    \n",
    "    for i in range(A.shape[0]):\n",
    "        if A[i] > 0.5 :\n",
    "            Y_pred[i] = 1\n",
    "        else :\n",
    "            Y_pred[i] = 0\n",
    "    \n",
    "    return Y_pred\n"
   ]
  },
  {
   "cell_type": "markdown",
   "metadata": {
    "collapsed": true
   },
   "source": [
    "So now we have the skeleton build lets test a bit.  So lets first test out regularization - comparing unregularized, L1 regularization and L2 regularization.  "
   ]
  },
  {
   "cell_type": "code",
   "execution_count": 6,
   "metadata": {
    "scrolled": true
   },
   "outputs": [
    {
     "name": "stdout",
     "output_type": "stream",
     "text": [
      "0.4332607088065584\n"
     ]
    },
    {
     "data": {
      "image/png": "[encoded data removed]",
      "text/plain": [
       "<Figure size 432x288 with 1 Axes>"
      ]
     },
     "metadata": {},
     "output_type": "display_data"
    }
   ],
   "source": [
    "w, b = initializer(X_Train.shape[1])\n",
    "\n",
    "X = X_Train\n",
    "Y = Y_Train\n",
    "\n",
    "params1, grads1, costs1 = Train_model(w, b, X, Y, 500, optimizer = \"adam\", decay=\"power\")\n",
    "\n",
    "\n",
    "print(costs1[-1])\n",
    "plt.plot(costs1)\n",
    "plt.ylabel('cost')\n",
    "plt.xlabel('iterations (per hundreds)')\n",
    "plt.title(\"Learning rate = 0.5\")\n",
    "plt.show()\n"
   ]
  },
  {
   "cell_type": "code",
   "execution_count": 7,
   "metadata": {},
   "outputs": [
    {
     "name": "stdout",
     "output_type": "stream",
     "text": [
      "0.4429329515540734\n"
     ]
    },
    {
     "data": {
      "image/png": "[encoded data removed]",
      "text/plain": [
       "<Figure size 432x288 with 1 Axes>"
      ]
     },
     "metadata": {},
     "output_type": "display_data"
    }
   ],
   "source": [
    "w, b = initializer(X_Train.shape[1])\n",
    "params2, grads2, costs2 = Train_model(w, b, X, Y, 500, regularizer = \"L1\", optimizer = \"adam\",decay=\"power\")\n",
    "\n",
    "\n",
    "print(costs2[-1])\n",
    "plt.plot(costs2)\n",
    "plt.ylabel('cost')\n",
    "plt.xlabel('iterations (per hundreds)')\n",
    "plt.title(\"Learning rate = 0.5\")\n",
    "plt.show()\n",
    "\n",
    "\n"
   ]
  },
  {
   "cell_type": "code",
   "execution_count": 8,
   "metadata": {},
   "outputs": [
    {
     "name": "stdout",
     "output_type": "stream",
     "text": [
      "0.43318023851744486\n"
     ]
    },
    {
     "data": {
      "image/png": "[encoded data removed]",
      "text/plain": [
       "<Figure size 432x288 with 1 Axes>"
      ]
     },
     "metadata": {},
     "output_type": "display_data"
    }
   ],
   "source": [
    "w, b = initializer(X_Train.shape[1])\n",
    "params3, grads3, costs3 = Train_model(w, b, X, Y, 500, regularizer = \"L2\", optimizer = \"adam\", decay=\"power\")\n",
    "\n",
    "\n",
    "print(costs3[-1])\n",
    "plt.plot(costs3)\n",
    "plt.ylabel('cost')\n",
    "plt.xlabel('iterations (per hundreds)')\n",
    "plt.title(\"Learning rate = 0.5\")\n",
    "plt.show()\n",
    "\n"
   ]
  },
  {
   "cell_type": "markdown",
   "metadata": {},
   "source": [
    "So we want a regularized model to not overfit, however as a baseline it looks like we cannot really get better than a cost of 4.3327.  \n",
    "\n",
    "At a glance it looks like the L2 regularization outperforms L1 regularization however lets compute some F1 scores for our model to get a proper comparison.\n",
    "\n",
    "Note however that all models converge extremely quickly, likely due to a small training dataset (also the reason I opted for batch training over implementing mini-batch functionality).\n",
    "\n",
    "## Computing F1 Score\n",
    "\n",
    "So as our benchmark score to model we're going to use a combination of accuracy and the F1 score defined as - \n",
    "\n",
    "Precision $ = \\dfrac{t_p}{t_p + f_p}$\n",
    "\n",
    "Recall $ = \\dfrac{t_p}{t_p + f_n}$\n",
    "\n",
    "F1 Score $ = 2 \\cdot \\dfrac{precision \\cdot recall}{precision + recall}$"
   ]
  },
  {
   "cell_type": "code",
   "execution_count": 9,
   "metadata": {},
   "outputs": [],
   "source": [
    "#Calculate our accuracy figures\n",
    "def Calc_Accuracy(Y_true, Y_hat) :\n",
    "    #Compute inverse vectors for vectorization\n",
    "    Y_true_inv = 1 - Y_true\n",
    "    Y_hat_inv = 1 - Y_hat\n",
    "    \n",
    "    #Vectorized confusion matrix sums\n",
    "    true_pos = np.sum(Y_true*Y_hat)\n",
    "    false_pos = np.sum(Y_true_inv*Y_hat)\n",
    "    true_neg = np.sum(Y_true_inv*Y_hat_inv)\n",
    "    false_neg = np.sum(Y_true*Y_hat_inv)\n",
    "    \n",
    "    #F1 Score computations\n",
    "    prec = true_pos / (true_pos + false_pos)\n",
    "    rec = true_pos / (true_pos + false_neg)\n",
    "    \n",
    "    acc = float((np.dot(Y_true,Y_hat.T) + np.dot(Y_true_inv,Y_hat_inv.T))/float(Y_true.size)*100)\n",
    "    score= 2 * ((prec*rec) / (prec+rec))\n",
    "    confusion_mat = pd.DataFrame({\n",
    "        \"Actual False\" : [false_pos, true_neg],\n",
    "        \"Actual True\" : [true_pos, false_neg],\n",
    "        \"Labels\" : [\"Pred True\", \"Pred False\"]\n",
    "    }\n",
    "    )\n",
    "    \n",
    "    return acc, score, confusion_mat"
   ]
  },
  {
   "cell_type": "markdown",
   "metadata": {},
   "source": [
    "# Evaluating our models\n",
    "\n",
    "So to evaluate the models lets use our prediction and evaluation functions to compute the statistics for all of our models.  Now as we have a holdout cross validation set we can have a test to see how our models perform on data they've never seen before.  \n",
    "\n",
    "This should give a estimation of about what accuracy we're looking at should we submit one of these models on the test set.\n",
    "\n",
    "### Model 1 (No Regularization)|\n",
    "\n",
    "#### Training Performance"
   ]
  },
  {
   "cell_type": "code",
   "execution_count": 10,
   "metadata": {},
   "outputs": [
    {
     "name": "stdout",
     "output_type": "stream",
     "text": [
      "Accuracy =  81.16308470290771\n",
      "F1 Score =  0.749579831932773\n",
      "\n",
      "Confusion Matrix\n"
     ]
    },
    {
     "data": {
      "text/html": [
       "<div>\n",
       "<style scoped>\n",
       "    .dataframe tbody tr th:only-of-type {\n",
       "        vertical-align: middle;\n",
       "    }\n",
       "\n",
       "    .dataframe tbody tr th {\n",
       "        vertical-align: top;\n",
       "    }\n",
       "\n",
       "    .dataframe thead th {\n",
       "        text-align: right;\n",
       "    }\n",
       "</style>\n",
       "<table border=\"1\" class=\"dataframe\">\n",
       "  <thead>\n",
       "    <tr style=\"text-align: right;\">\n",
       "      <th></th>\n",
       "      <th>Labels</th>\n",
       "      <th>Actual True</th>\n",
       "      <th>Actual False</th>\n",
       "    </tr>\n",
       "  </thead>\n",
       "  <tbody>\n",
       "    <tr>\n",
       "      <th>0</th>\n",
       "      <td>Pred True</td>\n",
       "      <td>223.0</td>\n",
       "      <td>66.0</td>\n",
       "    </tr>\n",
       "    <tr>\n",
       "      <th>1</th>\n",
       "      <td>Pred False</td>\n",
       "      <td>83.0</td>\n",
       "      <td>419.0</td>\n",
       "    </tr>\n",
       "  </tbody>\n",
       "</table>\n",
       "</div>"
      ],
      "text/plain": [
       "       Labels  Actual True  Actual False\n",
       "0   Pred True        223.0          66.0\n",
       "1  Pred False         83.0         419.0"
      ]
     },
     "execution_count": 10,
     "metadata": {},
     "output_type": "execute_result"
    }
   ],
   "source": [
    "Y_hat1 = predict(params1[\"w\"], params1[\"b\"], X_Train)\n",
    "\n",
    "\n",
    "acc1, score1, conf1 = Calc_Accuracy(Y_Train, Y_hat1)\n",
    "\n",
    "print(\"Accuracy = \", acc1)\n",
    "print(\"F1 Score = \", score1)\n",
    "print(\"\")\n",
    "print(\"Confusion Matrix\")\n",
    "conf1[[\"Labels\", \"Actual True\", \"Actual False\"]]"
   ]
  },
  {
   "cell_type": "markdown",
   "metadata": {},
   "source": [
    "#### Cross Validation Performance"
   ]
  },
  {
   "cell_type": "code",
   "execution_count": 11,
   "metadata": {},
   "outputs": [
    {
     "name": "stdout",
     "output_type": "stream",
     "text": [
      "Accuracy =  82.0\n",
      "F1 Score =  0.7428571428571428\n",
      "\n",
      "Confusion Matrix\n"
     ]
    },
    {
     "data": {
      "text/html": [
       "<div>\n",
       "<style scoped>\n",
       "    .dataframe tbody tr th:only-of-type {\n",
       "        vertical-align: middle;\n",
       "    }\n",
       "\n",
       "    .dataframe tbody tr th {\n",
       "        vertical-align: top;\n",
       "    }\n",
       "\n",
       "    .dataframe thead th {\n",
       "        text-align: right;\n",
       "    }\n",
       "</style>\n",
       "<table border=\"1\" class=\"dataframe\">\n",
       "  <thead>\n",
       "    <tr style=\"text-align: right;\">\n",
       "      <th></th>\n",
       "      <th>Labels</th>\n",
       "      <th>Actual True</th>\n",
       "      <th>Actual False</th>\n",
       "    </tr>\n",
       "  </thead>\n",
       "  <tbody>\n",
       "    <tr>\n",
       "      <th>0</th>\n",
       "      <td>Pred True</td>\n",
       "      <td>26.0</td>\n",
       "      <td>8.0</td>\n",
       "    </tr>\n",
       "    <tr>\n",
       "      <th>1</th>\n",
       "      <td>Pred False</td>\n",
       "      <td>10.0</td>\n",
       "      <td>56.0</td>\n",
       "    </tr>\n",
       "  </tbody>\n",
       "</table>\n",
       "</div>"
      ],
      "text/plain": [
       "       Labels  Actual True  Actual False\n",
       "0   Pred True         26.0           8.0\n",
       "1  Pred False         10.0          56.0"
      ]
     },
     "execution_count": 11,
     "metadata": {},
     "output_type": "execute_result"
    }
   ],
   "source": [
    "Y_hat_CV1 = predict(params1[\"w\"], params1[\"b\"], X_CV)\n",
    "\n",
    "\n",
    "acc_CV1, score_CV1, conf_CV1 = Calc_Accuracy(Y_CV, Y_hat_CV1)\n",
    "\n",
    "print(\"Accuracy = \", acc_CV1)\n",
    "print(\"F1 Score = \", score_CV1)\n",
    "print(\"\")\n",
    "print(\"Confusion Matrix\")\n",
    "conf_CV1[[\"Labels\", \"Actual True\", \"Actual False\"]]"
   ]
  },
  {
   "cell_type": "markdown",
   "metadata": {},
   "source": [
    "### Model 2 (L1 Regularization)\n",
    "\n",
    "#### Training Performance"
   ]
  },
  {
   "cell_type": "code",
   "execution_count": 12,
   "metadata": {},
   "outputs": [
    {
     "name": "stdout",
     "output_type": "stream",
     "text": [
      "Accuracy =  81.16308470290771\n",
      "F1 Score =  0.7504187604690117\n",
      "\n",
      "Confusion Matrix\n"
     ]
    },
    {
     "data": {
      "text/html": [
       "<div>\n",
       "<style scoped>\n",
       "    .dataframe tbody tr th:only-of-type {\n",
       "        vertical-align: middle;\n",
       "    }\n",
       "\n",
       "    .dataframe tbody tr th {\n",
       "        vertical-align: top;\n",
       "    }\n",
       "\n",
       "    .dataframe thead th {\n",
       "        text-align: right;\n",
       "    }\n",
       "</style>\n",
       "<table border=\"1\" class=\"dataframe\">\n",
       "  <thead>\n",
       "    <tr style=\"text-align: right;\">\n",
       "      <th></th>\n",
       "      <th>Labels</th>\n",
       "      <th>Actual True</th>\n",
       "      <th>Actual False</th>\n",
       "    </tr>\n",
       "  </thead>\n",
       "  <tbody>\n",
       "    <tr>\n",
       "      <th>0</th>\n",
       "      <td>Pred True</td>\n",
       "      <td>224.0</td>\n",
       "      <td>67.0</td>\n",
       "    </tr>\n",
       "    <tr>\n",
       "      <th>1</th>\n",
       "      <td>Pred False</td>\n",
       "      <td>82.0</td>\n",
       "      <td>418.0</td>\n",
       "    </tr>\n",
       "  </tbody>\n",
       "</table>\n",
       "</div>"
      ],
      "text/plain": [
       "       Labels  Actual True  Actual False\n",
       "0   Pred True        224.0          67.0\n",
       "1  Pred False         82.0         418.0"
      ]
     },
     "execution_count": 12,
     "metadata": {},
     "output_type": "execute_result"
    }
   ],
   "source": [
    "Y_hat2 = predict(params2[\"w\"], params2[\"b\"], X_Train)\n",
    "\n",
    "\n",
    "acc2, score2, conf2 = Calc_Accuracy(Y_Train, Y_hat2)\n",
    "\n",
    "print(\"Accuracy = \", acc2)\n",
    "print(\"F1 Score = \", score2)\n",
    "print(\"\")\n",
    "print(\"Confusion Matrix\")\n",
    "conf2[[\"Labels\", \"Actual True\", \"Actual False\"]]"
   ]
  },
  {
   "cell_type": "markdown",
   "metadata": {},
   "source": [
    "#### Cross Validation Performance"
   ]
  },
  {
   "cell_type": "code",
   "execution_count": 13,
   "metadata": {},
   "outputs": [
    {
     "name": "stdout",
     "output_type": "stream",
     "text": [
      "Accuracy =  82.0\n",
      "F1 Score =  0.7428571428571428\n",
      "\n",
      "Confusion Matrix\n"
     ]
    },
    {
     "data": {
      "text/html": [
       "<div>\n",
       "<style scoped>\n",
       "    .dataframe tbody tr th:only-of-type {\n",
       "        vertical-align: middle;\n",
       "    }\n",
       "\n",
       "    .dataframe tbody tr th {\n",
       "        vertical-align: top;\n",
       "    }\n",
       "\n",
       "    .dataframe thead th {\n",
       "        text-align: right;\n",
       "    }\n",
       "</style>\n",
       "<table border=\"1\" class=\"dataframe\">\n",
       "  <thead>\n",
       "    <tr style=\"text-align: right;\">\n",
       "      <th></th>\n",
       "      <th>Labels</th>\n",
       "      <th>Actual True</th>\n",
       "      <th>Actual False</th>\n",
       "    </tr>\n",
       "  </thead>\n",
       "  <tbody>\n",
       "    <tr>\n",
       "      <th>0</th>\n",
       "      <td>Pred True</td>\n",
       "      <td>26.0</td>\n",
       "      <td>8.0</td>\n",
       "    </tr>\n",
       "    <tr>\n",
       "      <th>1</th>\n",
       "      <td>Pred False</td>\n",
       "      <td>10.0</td>\n",
       "      <td>56.0</td>\n",
       "    </tr>\n",
       "  </tbody>\n",
       "</table>\n",
       "</div>"
      ],
      "text/plain": [
       "       Labels  Actual True  Actual False\n",
       "0   Pred True         26.0           8.0\n",
       "1  Pred False         10.0          56.0"
      ]
     },
     "execution_count": 13,
     "metadata": {},
     "output_type": "execute_result"
    }
   ],
   "source": [
    "Y_hat_CV2 = predict(params2[\"w\"], params2[\"b\"], X_CV)\n",
    "\n",
    "\n",
    "acc_CV2, score_CV2, conf_CV2 = Calc_Accuracy(Y_CV, Y_hat_CV2)\n",
    "\n",
    "print(\"Accuracy = \", acc_CV2)\n",
    "print(\"F1 Score = \", score_CV2)\n",
    "print(\"\")\n",
    "print(\"Confusion Matrix\")\n",
    "conf_CV2[[\"Labels\", \"Actual True\", \"Actual False\"]]"
   ]
  },
  {
   "cell_type": "markdown",
   "metadata": {},
   "source": [
    "### Model 3 - L2 Regularization\n",
    "\n",
    "#### Training Set Performance"
   ]
  },
  {
   "cell_type": "code",
   "execution_count": 14,
   "metadata": {},
   "outputs": [
    {
     "name": "stdout",
     "output_type": "stream",
     "text": [
      "Accuracy =  81.16308470290771\n",
      "F1 Score =  0.7504187604690117\n",
      "\n",
      "Confusion Matrix\n"
     ]
    },
    {
     "data": {
      "text/html": [
       "<div>\n",
       "<style scoped>\n",
       "    .dataframe tbody tr th:only-of-type {\n",
       "        vertical-align: middle;\n",
       "    }\n",
       "\n",
       "    .dataframe tbody tr th {\n",
       "        vertical-align: top;\n",
       "    }\n",
       "\n",
       "    .dataframe thead th {\n",
       "        text-align: right;\n",
       "    }\n",
       "</style>\n",
       "<table border=\"1\" class=\"dataframe\">\n",
       "  <thead>\n",
       "    <tr style=\"text-align: right;\">\n",
       "      <th></th>\n",
       "      <th>Labels</th>\n",
       "      <th>Actual True</th>\n",
       "      <th>Actual False</th>\n",
       "    </tr>\n",
       "  </thead>\n",
       "  <tbody>\n",
       "    <tr>\n",
       "      <th>0</th>\n",
       "      <td>Pred True</td>\n",
       "      <td>224.0</td>\n",
       "      <td>67.0</td>\n",
       "    </tr>\n",
       "    <tr>\n",
       "      <th>1</th>\n",
       "      <td>Pred False</td>\n",
       "      <td>82.0</td>\n",
       "      <td>418.0</td>\n",
       "    </tr>\n",
       "  </tbody>\n",
       "</table>\n",
       "</div>"
      ],
      "text/plain": [
       "       Labels  Actual True  Actual False\n",
       "0   Pred True        224.0          67.0\n",
       "1  Pred False         82.0         418.0"
      ]
     },
     "execution_count": 14,
     "metadata": {},
     "output_type": "execute_result"
    }
   ],
   "source": [
    "Y_hat3 = predict(params3[\"w\"], params3[\"b\"], X_Train)\n",
    "\n",
    "\n",
    "acc3, score3, conf3 = Calc_Accuracy(Y_Train, Y_hat2)\n",
    "\n",
    "print(\"Accuracy = \", acc3)\n",
    "print(\"F1 Score = \", score3)\n",
    "print(\"\")\n",
    "print(\"Confusion Matrix\")\n",
    "conf3[[\"Labels\", \"Actual True\", \"Actual False\"]]"
   ]
  },
  {
   "cell_type": "markdown",
   "metadata": {},
   "source": [
    "#### Cross Validation Performance"
   ]
  },
  {
   "cell_type": "code",
   "execution_count": 15,
   "metadata": {},
   "outputs": [
    {
     "name": "stdout",
     "output_type": "stream",
     "text": [
      "Accuracy =  83.0\n",
      "F1 Score =  0.746268656716418\n",
      "\n",
      "Confusion Matrix\n"
     ]
    },
    {
     "data": {
      "text/html": [
       "<div>\n",
       "<style scoped>\n",
       "    .dataframe tbody tr th:only-of-type {\n",
       "        vertical-align: middle;\n",
       "    }\n",
       "\n",
       "    .dataframe tbody tr th {\n",
       "        vertical-align: top;\n",
       "    }\n",
       "\n",
       "    .dataframe thead th {\n",
       "        text-align: right;\n",
       "    }\n",
       "</style>\n",
       "<table border=\"1\" class=\"dataframe\">\n",
       "  <thead>\n",
       "    <tr style=\"text-align: right;\">\n",
       "      <th></th>\n",
       "      <th>Labels</th>\n",
       "      <th>Actual True</th>\n",
       "      <th>Actual False</th>\n",
       "    </tr>\n",
       "  </thead>\n",
       "  <tbody>\n",
       "    <tr>\n",
       "      <th>0</th>\n",
       "      <td>Pred True</td>\n",
       "      <td>25.0</td>\n",
       "      <td>6.0</td>\n",
       "    </tr>\n",
       "    <tr>\n",
       "      <th>1</th>\n",
       "      <td>Pred False</td>\n",
       "      <td>11.0</td>\n",
       "      <td>58.0</td>\n",
       "    </tr>\n",
       "  </tbody>\n",
       "</table>\n",
       "</div>"
      ],
      "text/plain": [
       "       Labels  Actual True  Actual False\n",
       "0   Pred True         25.0           6.0\n",
       "1  Pred False         11.0          58.0"
      ]
     },
     "execution_count": 15,
     "metadata": {},
     "output_type": "execute_result"
    }
   ],
   "source": [
    "Y_hat_CV3 = predict(params3[\"w\"], params2[\"b\"], X_CV)\n",
    "\n",
    "\n",
    "acc_CV3, score_CV3, conf_CV3 = Calc_Accuracy(Y_CV, Y_hat_CV3)\n",
    "\n",
    "print(\"Accuracy = \", acc_CV3)\n",
    "print(\"F1 Score = \", score_CV3)\n",
    "print(\"\")\n",
    "print(\"Confusion Matrix\")\n",
    "conf_CV3[[\"Labels\", \"Actual True\", \"Actual False\"]]"
   ]
  },
  {
   "cell_type": "markdown",
   "metadata": {},
   "source": [
    "# Results\n",
    "\n",
    "Note that these may differ due to random initialization.\n",
    "\n",
    "Model | Test Accuracy | Test F1 Score | CV Accuracy | CV F1 Score\n",
    "--- | --- | --- | --- | ---\n",
    "No Regularization | 81.036 | 0.748 | 83 | 0.753\n",
    "L1 Regularization | 80.91 | 0.747 | 82 | 0.742\n",
    "L2 Regularization | 80.91 | 0.747 | 84 | 0.757\n",
    "\n",
    "So it appears no regularization had okay performance on the cross validation set so we did not overfit our data.  Interestingly both forms of regularization performed identically on the training set (confirmed after a few different random initializations), however perform differently on the cross validation set.  \n",
    "\n",
    "It seems like L2 regularization performs the best at a glance, however this would require a few more iterations of random initialization to confirm.\n",
    "\n",
    "However this is unlikely to yield much benefit as we are underfitting our data it seems.  \n",
    "\n",
    "An 80% accuracy is great for a linear model, however I think a more complex model is in order to better fit our data.  And for that we will be using some more sophisticated packages instead of coding everything manually.\n",
    "\n",
    "Part 3 to follow."
   ]
  }
 ],
 "metadata": {
  "kernelspec": {
   "display_name": "Python 3",
   "language": "python",
   "name": "python3"
  },
  "language_info": {
   "codemirror_mode": {
    "name": "ipython",
    "version": 3
   },
   "file_extension": ".py",
   "mimetype": "text/x-python",
   "name": "python",
   "nbconvert_exporter": "python",
   "pygments_lexer": "ipython3",
   "version": "3.6.4"
  }
 },
 "nbformat": 4,
 "nbformat_minor": 2
}
